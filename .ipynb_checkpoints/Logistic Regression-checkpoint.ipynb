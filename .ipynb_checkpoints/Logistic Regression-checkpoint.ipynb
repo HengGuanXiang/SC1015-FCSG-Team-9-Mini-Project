{
 "cells": [
  {
   "cell_type": "code",
   "execution_count": 27,
   "id": "4d363056",
   "metadata": {},
   "outputs": [],
   "source": [
    "import pandas as pd\n",
    "import numpy as np\n",
    "from sklearn import preprocessing\n",
    "import matplotlib.pyplot as plt \n",
    "import seaborn as sb\n",
    "from sklearn.linear_model import LogisticRegression\n",
    "from sklearn.model_selection import train_test_split\n",
    "from sklearn.metrics import confusion_matrix\n",
    "from sklearn.metrics import classification_report\n",
    "from sklearn.model_selection import GridSearchCV"
   ]
  },
  {
   "cell_type": "code",
   "execution_count": 2,
   "id": "056ce325",
   "metadata": {},
   "outputs": [
    {
     "data": {
      "text/html": [
       "<div>\n",
       "<style scoped>\n",
       "    .dataframe tbody tr th:only-of-type {\n",
       "        vertical-align: middle;\n",
       "    }\n",
       "\n",
       "    .dataframe tbody tr th {\n",
       "        vertical-align: top;\n",
       "    }\n",
       "\n",
       "    .dataframe thead th {\n",
       "        text-align: right;\n",
       "    }\n",
       "</style>\n",
       "<table border=\"1\" class=\"dataframe\">\n",
       "  <thead>\n",
       "    <tr style=\"text-align: right;\">\n",
       "      <th></th>\n",
       "      <th>HeartDisease</th>\n",
       "      <th>GenHealth</th>\n",
       "      <th>DiffWalking</th>\n",
       "      <th>Stroke</th>\n",
       "      <th>PhysicalHealth</th>\n",
       "    </tr>\n",
       "  </thead>\n",
       "  <tbody>\n",
       "    <tr>\n",
       "      <th>0</th>\n",
       "      <td>0</td>\n",
       "      <td>3</td>\n",
       "      <td>0</td>\n",
       "      <td>0</td>\n",
       "      <td>3.0</td>\n",
       "    </tr>\n",
       "    <tr>\n",
       "      <th>1</th>\n",
       "      <td>0</td>\n",
       "      <td>3</td>\n",
       "      <td>0</td>\n",
       "      <td>1</td>\n",
       "      <td>0.0</td>\n",
       "    </tr>\n",
       "    <tr>\n",
       "      <th>2</th>\n",
       "      <td>0</td>\n",
       "      <td>2</td>\n",
       "      <td>0</td>\n",
       "      <td>0</td>\n",
       "      <td>0.0</td>\n",
       "    </tr>\n",
       "    <tr>\n",
       "      <th>3</th>\n",
       "      <td>0</td>\n",
       "      <td>1</td>\n",
       "      <td>0</td>\n",
       "      <td>0</td>\n",
       "      <td>0.0</td>\n",
       "    </tr>\n",
       "    <tr>\n",
       "      <th>4</th>\n",
       "      <td>0</td>\n",
       "      <td>2</td>\n",
       "      <td>1</td>\n",
       "      <td>0</td>\n",
       "      <td>0.0</td>\n",
       "    </tr>\n",
       "  </tbody>\n",
       "</table>\n",
       "</div>"
      ],
      "text/plain": [
       "   HeartDisease  GenHealth  DiffWalking  Stroke  PhysicalHealth\n",
       "0             0          3            0       0             3.0\n",
       "1             0          3            0       1             0.0\n",
       "2             0          2            0       0             0.0\n",
       "3             0          1            0       0             0.0\n",
       "4             0          2            1       0             0.0"
      ]
     },
     "execution_count": 2,
     "metadata": {},
     "output_type": "execute_result"
    }
   ],
   "source": [
    "heartdata = pd.read_csv('selected_heartdata.csv')\n",
    "heartdata.head()"
   ]
  },
  {
   "cell_type": "code",
   "execution_count": 3,
   "id": "dbc33199",
   "metadata": {},
   "outputs": [
    {
     "data": {
      "text/plain": [
       "<seaborn.axisgrid.FacetGrid at 0x21e96f1fb10>"
      ]
     },
     "execution_count": 3,
     "metadata": {},
     "output_type": "execute_result"
    },
    {
     "data": {
      "image/png": "[encoded data removed]",
      "text/plain": [
       "<Figure size 500x500 with 1 Axes>"
      ]
     },
     "metadata": {},
     "output_type": "display_data"
    }
   ],
   "source": [
    "sb.catplot(y = \"HeartDisease\", data = heartdata, kind = \"count\")"
   ]
  },
  {
   "cell_type": "code",
   "execution_count": 4,
   "id": "54e57237",
   "metadata": {},
   "outputs": [],
   "source": [
    "y = heartdata[\"HeartDisease\"]\n",
    "X = heartdata[[\"GenHealth\",\"DiffWalking\",\"Stroke\",\"PhysicalHealth\",\"AgeCategory\"]]"
   ]
  },
  {
   "cell_type": "code",
   "execution_count": 29,
   "id": "bffd8a73",
   "metadata": {},
   "outputs": [],
   "source": [
    "def logregClass(X_train, X_test, y_train, y_test):\n",
    "    logreg = LogisticRegression()\n",
    "    logreg.fit(X_train, y_train)\n",
    "    y_pred = logreg.predict(X_test)\n",
    "    print('Accuracy of logistic regression classifier on test set: {:.2f}'.format(logreg.score(X_test, y_test)))\n",
    "    cmTest = confusion_matrix(y_test, y_pred)\n",
    "    tpTest = cmTest[1][1] # True Positives : Good (1) predicted Good (1)\n",
    "    fpTest = cmTest[0][1] # False Positives : Bad (0) predicted Good (1)\n",
    "    tnTest = cmTest[0][0] # True Negatives : Bad (0) predicted Bad (0)\n",
    "    fnTest = cmTest[1][0] # False Negatives : Good (1) predicted Bad (0)\n",
    "\n",
    "    print(\"TPR Train :\\t\", (tpTest/(tpTest + fnTest)))\n",
    "    print(\"TNR Train :\\t\", (tnTest/(tnTest + fpTest)))\n",
    "    print()\n",
    "\n",
    "    print(\"FPR Train :\\t\", (fpTest/(tnTest + fpTest)))\n",
    "    print(\"FNR Train :\\t\", (fnTest/(tpTest + fnTest)))\n",
    "\n",
    "    sb.heatmap(confusion_matrix(y_test, y_pred), \n",
    "               annot = True, fmt=\".0f\", annot_kws={\"size\": 18})\n",
    "    \n",
    "    print(classification_report(y_test, y_pred))\n",
    "    return y_pred"
   ]
  },
  {
   "cell_type": "code",
   "execution_count": 30,
   "id": "7734f9e3",
   "metadata": {},
   "outputs": [],
   "source": [
    "X_train, X_test, y_train, y_test = train_test_split(X, y, test_size=0.3, random_state=0)"
   ]
  },
  {
   "cell_type": "code",
   "execution_count": 32,
   "id": "22c200cc",
   "metadata": {},
   "outputs": [
    {
     "name": "stdout",
     "output_type": "stream",
     "text": [
      "Accuracy of logistic regression classifier on test set: 0.93\n",
      "TPR Train :\t 0.024413145539906103\n",
      "TNR Train :\t 0.9983555291960964\n",
      "\n",
      "FPR Train :\t 0.0016444708039035963\n",
      "FNR Train :\t 0.9755868544600939\n",
      "              precision    recall  f1-score   support\n",
      "\n",
      "           0       0.93      1.00      0.97     74188\n",
      "           1       0.52      0.02      0.05      5325\n",
      "\n",
      "    accuracy                           0.93     79513\n",
      "   macro avg       0.73      0.51      0.51     79513\n",
      "weighted avg       0.91      0.93      0.90     79513\n",
      "\n"
     ]
    },
    {
     "data": {
      "image/png": "[encoded data removed]",
      "text/plain": [
       "<Figure size 640x480 with 2 Axes>"
      ]
     },
     "metadata": {},
     "output_type": "display_data"
    }
   ],
   "source": [
    "y_pred = logregClass(X_train, X_test, y_train, y_test)"
   ]
  },
  {
   "cell_type": "markdown",
   "id": "8a46ef82",
   "metadata": {},
   "source": [
    "The precision is intuitively the ability of the classifier not to label as positive a sample that is negative.\n",
    "The recall is intuitively the ability of the classifier to find all the positive samples.\n",
    "The F1 score can be interpreted as a harmonic mean of the precision and recall, where an F1 score reaches its best value at 1 and worst score at 0. \n",
    "\n",
    "This shows that the model is very bad at finding all the postiive samples and ingeneral terrible this is due to the data set being imbalance"
   ]
  },
  {
   "cell_type": "code",
   "execution_count": 25,
   "id": "019db083",
   "metadata": {},
   "outputs": [
    {
     "name": "stdout",
     "output_type": "stream",
     "text": [
      "Counter({0: 17533, 1: 17533})\n"
     ]
    }
   ],
   "source": [
    "balancedheartdata = pd.read_csv('balanced_heartdata.csv')"
   ]
  },
  {
   "cell_type": "code",
   "execution_count": null,
   "id": "5fcf677a",
   "metadata": {},
   "outputs": [],
   "source": [
    "y_under = balancedheartdata[\"HeartDisease\"]\n",
    "X_under = balancedheartdata[[\"GenHealth\",\"DiffWalking\",\"Stroke\",\"PhysicalHealth\",\"AgeCategory\"]]"
   ]
  },
  {
   "cell_type": "code",
   "execution_count": 33,
   "id": "aac1c248",
   "metadata": {},
   "outputs": [],
   "source": [
    "X_train, X_test, y_train, y_test = train_test_split(X_under, y_under, test_size=0.3, random_state=0)"
   ]
  },
  {
   "cell_type": "code",
   "execution_count": 34,
   "id": "f92a8daa",
   "metadata": {},
   "outputs": [
    {
     "name": "stdout",
     "output_type": "stream",
     "text": [
      "Accuracy of logistic regression classifier on test set: 0.67\n",
      "TPR Train :\t 0.7046182846371348\n",
      "TNR Train :\t 0.6354745925215723\n",
      "\n",
      "FPR Train :\t 0.3645254074784276\n",
      "FNR Train :\t 0.2953817153628652\n",
      "              precision    recall  f1-score   support\n",
      "\n",
      "           0       0.68      0.64      0.66      5215\n",
      "           1       0.66      0.70      0.68      5305\n",
      "\n",
      "    accuracy                           0.67     10520\n",
      "   macro avg       0.67      0.67      0.67     10520\n",
      "weighted avg       0.67      0.67      0.67     10520\n",
      "\n"
     ]
    },
    {
     "data": {
      "image/png": "[encoded data removed]",
      "text/plain": [
       "<Figure size 640x480 with 2 Axes>"
      ]
     },
     "metadata": {},
     "output_type": "display_data"
    }
   ],
   "source": [
    "y_pred_under = logregClass(X_train, X_test, y_train, y_test)"
   ]
  }
 ],
 "metadata": {
  "kernelspec": {
   "display_name": "Python 3 (ipykernel)",
   "language": "python",
   "name": "python3"
  },
  "language_info": {
   "codemirror_mode": {
    "name": "ipython",
    "version": 3
   },
   "file_extension": ".py",
   "mimetype": "text/x-python",
   "name": "python",
   "nbconvert_exporter": "python",
   "pygments_lexer": "ipython3",
   "version": "3.11.4"
  }
 },
 "nbformat": 4,
 "nbformat_minor": 5
}
