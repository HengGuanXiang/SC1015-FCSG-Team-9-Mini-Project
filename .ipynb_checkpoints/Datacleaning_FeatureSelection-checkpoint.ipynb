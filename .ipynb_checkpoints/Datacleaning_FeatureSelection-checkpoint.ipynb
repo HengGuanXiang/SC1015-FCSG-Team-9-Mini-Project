{
 "cells": [
  {
   "cell_type": "code",
   "execution_count": 1,
   "id": "2a7d670f",
   "metadata": {},
   "outputs": [],
   "source": [
    "# Basic Libraries\n",
    "import numpy as np\n",
    "import pandas as pd\n",
    "import seaborn as sb\n",
    "import matplotlib.pyplot as plt # we only need pyplot\n",
    "from sklearn.metrics import confusion_matrix\n",
    "from sklearn.tree import plot_tree\n",
    "from scipy.stats import chi2_contingency"
   ]
  },
  {
   "cell_type": "code",
   "execution_count": 2,
   "id": "e3a1e019",
   "metadata": {
    "scrolled": true
   },
   "outputs": [
    {
     "data": {
      "text/html": [
       "<div>\n",
       "<style scoped>\n",
       "    .dataframe tbody tr th:only-of-type {\n",
       "        vertical-align: middle;\n",
       "    }\n",
       "\n",
       "    .dataframe tbody tr th {\n",
       "        vertical-align: top;\n",
       "    }\n",
       "\n",
       "    .dataframe thead th {\n",
       "        text-align: right;\n",
       "    }\n",
       "</style>\n",
       "<table border=\"1\" class=\"dataframe\">\n",
       "  <thead>\n",
       "    <tr style=\"text-align: right;\">\n",
       "      <th></th>\n",
       "      <th>HeartDisease</th>\n",
       "      <th>BMI</th>\n",
       "      <th>Smoking</th>\n",
       "      <th>AlcoholDrinking</th>\n",
       "      <th>Stroke</th>\n",
       "      <th>PhysicalHealth</th>\n",
       "      <th>MentalHealth</th>\n",
       "      <th>DiffWalking</th>\n",
       "      <th>Sex</th>\n",
       "      <th>AgeCategory</th>\n",
       "      <th>Race</th>\n",
       "      <th>Diabetic</th>\n",
       "      <th>PhysicalActivity</th>\n",
       "      <th>GenHealth</th>\n",
       "      <th>SleepTime</th>\n",
       "      <th>Asthma</th>\n",
       "      <th>KidneyDisease</th>\n",
       "      <th>SkinCancer</th>\n",
       "    </tr>\n",
       "  </thead>\n",
       "  <tbody>\n",
       "    <tr>\n",
       "      <th>0</th>\n",
       "      <td>No</td>\n",
       "      <td>16.60</td>\n",
       "      <td>Yes</td>\n",
       "      <td>No</td>\n",
       "      <td>No</td>\n",
       "      <td>3.0</td>\n",
       "      <td>30.0</td>\n",
       "      <td>No</td>\n",
       "      <td>Female</td>\n",
       "      <td>55-59</td>\n",
       "      <td>White</td>\n",
       "      <td>Yes</td>\n",
       "      <td>Yes</td>\n",
       "      <td>Very good</td>\n",
       "      <td>5.0</td>\n",
       "      <td>Yes</td>\n",
       "      <td>No</td>\n",
       "      <td>Yes</td>\n",
       "    </tr>\n",
       "    <tr>\n",
       "      <th>1</th>\n",
       "      <td>No</td>\n",
       "      <td>20.34</td>\n",
       "      <td>No</td>\n",
       "      <td>No</td>\n",
       "      <td>Yes</td>\n",
       "      <td>0.0</td>\n",
       "      <td>0.0</td>\n",
       "      <td>No</td>\n",
       "      <td>Female</td>\n",
       "      <td>80 or older</td>\n",
       "      <td>White</td>\n",
       "      <td>No</td>\n",
       "      <td>Yes</td>\n",
       "      <td>Very good</td>\n",
       "      <td>7.0</td>\n",
       "      <td>No</td>\n",
       "      <td>No</td>\n",
       "      <td>No</td>\n",
       "    </tr>\n",
       "    <tr>\n",
       "      <th>2</th>\n",
       "      <td>No</td>\n",
       "      <td>26.58</td>\n",
       "      <td>Yes</td>\n",
       "      <td>No</td>\n",
       "      <td>No</td>\n",
       "      <td>20.0</td>\n",
       "      <td>30.0</td>\n",
       "      <td>No</td>\n",
       "      <td>Male</td>\n",
       "      <td>65-69</td>\n",
       "      <td>White</td>\n",
       "      <td>Yes</td>\n",
       "      <td>Yes</td>\n",
       "      <td>Fair</td>\n",
       "      <td>8.0</td>\n",
       "      <td>Yes</td>\n",
       "      <td>No</td>\n",
       "      <td>No</td>\n",
       "    </tr>\n",
       "    <tr>\n",
       "      <th>3</th>\n",
       "      <td>No</td>\n",
       "      <td>24.21</td>\n",
       "      <td>No</td>\n",
       "      <td>No</td>\n",
       "      <td>No</td>\n",
       "      <td>0.0</td>\n",
       "      <td>0.0</td>\n",
       "      <td>No</td>\n",
       "      <td>Female</td>\n",
       "      <td>75-79</td>\n",
       "      <td>White</td>\n",
       "      <td>No</td>\n",
       "      <td>No</td>\n",
       "      <td>Good</td>\n",
       "      <td>6.0</td>\n",
       "      <td>No</td>\n",
       "      <td>No</td>\n",
       "      <td>Yes</td>\n",
       "    </tr>\n",
       "    <tr>\n",
       "      <th>4</th>\n",
       "      <td>No</td>\n",
       "      <td>23.71</td>\n",
       "      <td>No</td>\n",
       "      <td>No</td>\n",
       "      <td>No</td>\n",
       "      <td>28.0</td>\n",
       "      <td>0.0</td>\n",
       "      <td>Yes</td>\n",
       "      <td>Female</td>\n",
       "      <td>40-44</td>\n",
       "      <td>White</td>\n",
       "      <td>No</td>\n",
       "      <td>Yes</td>\n",
       "      <td>Very good</td>\n",
       "      <td>8.0</td>\n",
       "      <td>No</td>\n",
       "      <td>No</td>\n",
       "      <td>No</td>\n",
       "    </tr>\n",
       "  </tbody>\n",
       "</table>\n",
       "</div>"
      ],
      "text/plain": [
       "  HeartDisease    BMI Smoking AlcoholDrinking Stroke  PhysicalHealth  \\\n",
       "0           No  16.60     Yes              No     No             3.0   \n",
       "1           No  20.34      No              No    Yes             0.0   \n",
       "2           No  26.58     Yes              No     No            20.0   \n",
       "3           No  24.21      No              No     No             0.0   \n",
       "4           No  23.71      No              No     No            28.0   \n",
       "\n",
       "   MentalHealth DiffWalking     Sex  AgeCategory   Race Diabetic  \\\n",
       "0          30.0          No  Female        55-59  White      Yes   \n",
       "1           0.0          No  Female  80 or older  White       No   \n",
       "2          30.0          No    Male        65-69  White      Yes   \n",
       "3           0.0          No  Female        75-79  White       No   \n",
       "4           0.0         Yes  Female        40-44  White       No   \n",
       "\n",
       "  PhysicalActivity  GenHealth  SleepTime Asthma KidneyDisease SkinCancer  \n",
       "0              Yes  Very good        5.0    Yes            No        Yes  \n",
       "1              Yes  Very good        7.0     No            No         No  \n",
       "2              Yes       Fair        8.0    Yes            No         No  \n",
       "3               No       Good        6.0     No            No        Yes  \n",
       "4              Yes  Very good        8.0     No            No         No  "
      ]
     },
     "execution_count": 2,
     "metadata": {},
     "output_type": "execute_result"
    }
   ],
   "source": [
    "heartdata = pd.read_csv('heart_2020_cleaned.csv')\n",
    "heartdata.head()"
   ]
  },
  {
   "cell_type": "code",
   "execution_count": 3,
   "id": "0d7646b8",
   "metadata": {
    "scrolled": false
   },
   "outputs": [
    {
     "data": {
      "text/plain": [
       "<seaborn.axisgrid.FacetGrid at 0x20df5f7d590>"
      ]
     },
     "execution_count": 3,
     "metadata": {},
     "output_type": "execute_result"
    },
    {
     "data": {
      "image/png": "[encoded data removed]",
      "text/plain": [
       "<Figure size 500x500 with 1 Axes>"
      ]
     },
     "metadata": {},
     "output_type": "display_data"
    }
   ],
   "source": [
    "sb.catplot(y = \"HeartDisease\", data = heartdata, kind = \"count\")"
   ]
  },
  {
   "cell_type": "code",
   "execution_count": 4,
   "id": "5fdb0646",
   "metadata": {},
   "outputs": [
    {
     "name": "stdout",
     "output_type": "stream",
     "text": [
      "Ratio of classes is Positive : Negative =  27373 : 292422\n"
     ]
    }
   ],
   "source": [
    "negative, positive = heartdata['HeartDisease'].value_counts()\n",
    "print(\"Ratio of classes is Positive : Negative = \", positive, \":\", negative)"
   ]
  },
  {
   "cell_type": "code",
   "execution_count": 5,
   "id": "840d0e2d",
   "metadata": {},
   "outputs": [],
   "source": [
    "#heartdata['HeartDisease'].replace(('Yes', 'No'), (1, 0), inplace=True)"
   ]
  },
  {
   "cell_type": "code",
   "execution_count": 6,
   "id": "c1dc215f",
   "metadata": {},
   "outputs": [],
   "source": [
    "# Split the dataframe into two based on the values of 'HeartDisease'\n",
    "#one = heartdata.loc[heartdata['HeartDisease'] == 1]\n",
    "#zero = heartdata.loc[heartdata['HeartDisease'] == 0]\n",
    "\n",
    "# Randomly sample the zero instances to match the number of ones\n",
    "#random_zero = zero.sample(n=len(one), replace=False)\n",
    "\n",
    "# Concatenate the two dataframes\n",
    "#heartdata = pd.concat([one, random_zero])"
   ]
  },
  {
   "cell_type": "code",
   "execution_count": 7,
   "id": "ffc0d7ba",
   "metadata": {},
   "outputs": [
    {
     "name": "stdout",
     "output_type": "stream",
     "text": [
      "<class 'pandas.core.frame.DataFrame'>\n",
      "RangeIndex: 319795 entries, 0 to 319794\n",
      "Data columns (total 18 columns):\n",
      " #   Column            Non-Null Count   Dtype  \n",
      "---  ------            --------------   -----  \n",
      " 0   HeartDisease      319795 non-null  object \n",
      " 1   BMI               319795 non-null  float64\n",
      " 2   Smoking           319795 non-null  object \n",
      " 3   AlcoholDrinking   319795 non-null  object \n",
      " 4   Stroke            319795 non-null  object \n",
      " 5   PhysicalHealth    319795 non-null  float64\n",
      " 6   MentalHealth      319795 non-null  float64\n",
      " 7   DiffWalking       319795 non-null  object \n",
      " 8   Sex               319795 non-null  object \n",
      " 9   AgeCategory       319795 non-null  object \n",
      " 10  Race              319795 non-null  object \n",
      " 11  Diabetic          319795 non-null  object \n",
      " 12  PhysicalActivity  319795 non-null  object \n",
      " 13  GenHealth         319795 non-null  object \n",
      " 14  SleepTime         319795 non-null  float64\n",
      " 15  Asthma            319795 non-null  object \n",
      " 16  KidneyDisease     319795 non-null  object \n",
      " 17  SkinCancer        319795 non-null  object \n",
      "dtypes: float64(4), object(14)\n",
      "memory usage: 43.9+ MB\n"
     ]
    }
   ],
   "source": [
    "heartdata.info()"
   ]
  },
  {
   "cell_type": "code",
   "execution_count": 8,
   "id": "3b37770e",
   "metadata": {},
   "outputs": [
    {
     "data": {
      "text/plain": [
       "HeartDisease           2\n",
       "BMI                 3604\n",
       "Smoking                2\n",
       "AlcoholDrinking        2\n",
       "Stroke                 2\n",
       "PhysicalHealth        31\n",
       "MentalHealth          31\n",
       "DiffWalking            2\n",
       "Sex                    2\n",
       "AgeCategory           13\n",
       "Race                   6\n",
       "Diabetic               4\n",
       "PhysicalActivity       2\n",
       "GenHealth              5\n",
       "SleepTime             24\n",
       "Asthma                 2\n",
       "KidneyDisease          2\n",
       "SkinCancer             2\n",
       "dtype: int64"
      ]
     },
     "execution_count": 8,
     "metadata": {},
     "output_type": "execute_result"
    }
   ],
   "source": [
    "heartdata.nunique()"
   ]
  },
  {
   "cell_type": "code",
   "execution_count": 9,
   "id": "4931b4ff",
   "metadata": {},
   "outputs": [
    {
     "name": "stdout",
     "output_type": "stream",
     "text": [
      "HeartDisease\t['No' 'Yes']\n",
      "Smoking\t['Yes' 'No']\n",
      "AlcoholDrinking\t['No' 'Yes']\n",
      "Stroke\t['No' 'Yes']\n",
      "DiffWalking\t['No' 'Yes']\n",
      "Sex\t['Female' 'Male']\n",
      "AgeCategory\t['55-59' '80 or older' '65-69' '75-79' '40-44' '70-74' '60-64' '50-54'\n",
      " '45-49' '18-24' '35-39' '30-34' '25-29']\n",
      "Race\t['White' 'Black' 'Asian' 'American Indian/Alaskan Native' 'Other'\n",
      " 'Hispanic']\n",
      "Diabetic\t['Yes' 'No' 'No, borderline diabetes' 'Yes (during pregnancy)']\n",
      "PhysicalActivity\t['Yes' 'No']\n",
      "GenHealth\t['Very good' 'Fair' 'Good' 'Poor' 'Excellent']\n",
      "Asthma\t['Yes' 'No']\n",
      "KidneyDisease\t['No' 'Yes']\n",
      "SkinCancer\t['Yes' 'No']\n"
     ]
    }
   ],
   "source": [
    "for x in heartdata:\n",
    "    if(heartdata[x].dtype == object):\n",
    "        print(\"{0}\\t{1}\".format(x,heartdata[x].unique()))"
   ]
  },
  {
   "cell_type": "code",
   "execution_count": 10,
   "id": "4af462ed",
   "metadata": {},
   "outputs": [],
   "source": [
    "heartCat = heartdata.loc[:,heartdata.dtypes == object]\n",
    "heartNum = heartdata.loc[:,heartdata.dtypes != object]"
   ]
  },
  {
   "cell_type": "code",
   "execution_count": 11,
   "id": "90fd1c68",
   "metadata": {
    "scrolled": true
   },
   "outputs": [
    {
     "name": "stderr",
     "output_type": "stream",
     "text": [
      "C:\\Users\\guan_\\AppData\\Local\\Temp\\ipykernel_5136\\1500127446.py:2: SettingWithCopyWarning: \n",
      "A value is trying to be set on a copy of a slice from a DataFrame.\n",
      "Try using .loc[row_indexer,col_indexer] = value instead\n",
      "\n",
      "See the caveats in the documentation: https://pandas.pydata.org/pandas-docs/stable/user_guide/indexing.html#returning-a-view-versus-a-copy\n",
      "  heartCat[x] = heartCat[x].replace({'No': 0, 'Yes': 1, 'No, borderline diabetes': 2, \"Yes (during pregnancy)\":3, \"Female\":0, \"Male\":1})\n",
      "C:\\Users\\guan_\\AppData\\Local\\Temp\\ipykernel_5136\\1500127446.py:3: SettingWithCopyWarning: \n",
      "A value is trying to be set on a copy of a slice from a DataFrame.\n",
      "Try using .loc[row_indexer,col_indexer] = value instead\n",
      "\n",
      "See the caveats in the documentation: https://pandas.pydata.org/pandas-docs/stable/user_guide/indexing.html#returning-a-view-versus-a-copy\n",
      "  heartCat[\"GenHealth\"] = heartCat[\"GenHealth\"].replace({\"Poor\": 0, \"Fair\":1, \"Good\": 2 ,\"Very good\": 3, \"Excellent\":4})\n",
      "C:\\Users\\guan_\\AppData\\Local\\Temp\\ipykernel_5136\\1500127446.py:4: SettingWithCopyWarning: \n",
      "A value is trying to be set on a copy of a slice from a DataFrame.\n",
      "Try using .loc[row_indexer,col_indexer] = value instead\n",
      "\n",
      "See the caveats in the documentation: https://pandas.pydata.org/pandas-docs/stable/user_guide/indexing.html#returning-a-view-versus-a-copy\n",
      "  heartCat[\"Race\"] = heartCat[\"Race\"].replace({'White': 0, 'Black':1,'Asian':3,'American Indian/Alaskan Native': 4, 'Hispanic':5, 'Other':6})\n",
      "C:\\Users\\guan_\\AppData\\Local\\Temp\\ipykernel_5136\\1500127446.py:5: SettingWithCopyWarning: \n",
      "A value is trying to be set on a copy of a slice from a DataFrame.\n",
      "Try using .loc[row_indexer,col_indexer] = value instead\n",
      "\n",
      "See the caveats in the documentation: https://pandas.pydata.org/pandas-docs/stable/user_guide/indexing.html#returning-a-view-versus-a-copy\n",
      "  heartCat[\"AgeCategory\"] = heartCat[\"AgeCategory\"].replace({'80 or older': 0, '75-79': 1, '70-74': 2,  '65-69':3, '60-64':4, '55-59': 5,'50-54': 6, '45-49': 7, '40-44': 8, '35-39': 9,'30-34': 10, '25-29': 11, '18-24': 12})\n"
     ]
    }
   ],
   "source": [
    "for x in heartCat:\n",
    "   heartCat[x] = heartCat[x].replace({'No': 0, 'Yes': 1, 'No, borderline diabetes': 2, \"Yes (during pregnancy)\":3, \"Female\":0, \"Male\":1})\n",
    "heartCat[\"GenHealth\"] = heartCat[\"GenHealth\"].replace({\"Poor\": 0, \"Fair\":1, \"Good\": 2 ,\"Very good\": 3, \"Excellent\":4})\n",
    "heartCat[\"Race\"] = heartCat[\"Race\"].replace({'White': 0, 'Black':1,'Asian':3,'American Indian/Alaskan Native': 4, 'Hispanic':5, 'Other':6})\n",
    "heartCat[\"AgeCategory\"] = heartCat[\"AgeCategory\"].replace({'80 or older': 0, '75-79': 1, '70-74': 2,  '65-69':3, '60-64':4, '55-59': 5,'50-54': 6, '45-49': 7, '40-44': 8, '35-39': 9,'30-34': 10, '25-29': 11, '18-24': 12})"
   ]
  },
  {
   "cell_type": "code",
   "execution_count": 12,
   "id": "efdec82e",
   "metadata": {},
   "outputs": [],
   "source": [
    "heartNum = pd.concat([heartNum, heartCat[\"HeartDisease\"]], axis=1)"
   ]
  },
  {
   "cell_type": "code",
   "execution_count": 13,
   "id": "fac9447a",
   "metadata": {},
   "outputs": [
    {
     "data": {
      "text/html": [
       "<div>\n",
       "<style scoped>\n",
       "    .dataframe tbody tr th:only-of-type {\n",
       "        vertical-align: middle;\n",
       "    }\n",
       "\n",
       "    .dataframe tbody tr th {\n",
       "        vertical-align: top;\n",
       "    }\n",
       "\n",
       "    .dataframe thead th {\n",
       "        text-align: right;\n",
       "    }\n",
       "</style>\n",
       "<table border=\"1\" class=\"dataframe\">\n",
       "  <thead>\n",
       "    <tr style=\"text-align: right;\">\n",
       "      <th></th>\n",
       "      <th>HeartDisease</th>\n",
       "      <th>Smoking</th>\n",
       "      <th>AlcoholDrinking</th>\n",
       "      <th>Stroke</th>\n",
       "      <th>DiffWalking</th>\n",
       "      <th>Sex</th>\n",
       "      <th>AgeCategory</th>\n",
       "      <th>Race</th>\n",
       "      <th>Diabetic</th>\n",
       "      <th>PhysicalActivity</th>\n",
       "      <th>GenHealth</th>\n",
       "      <th>Asthma</th>\n",
       "      <th>KidneyDisease</th>\n",
       "      <th>SkinCancer</th>\n",
       "    </tr>\n",
       "  </thead>\n",
       "  <tbody>\n",
       "    <tr>\n",
       "      <th>0</th>\n",
       "      <td>0</td>\n",
       "      <td>1</td>\n",
       "      <td>0</td>\n",
       "      <td>0</td>\n",
       "      <td>0</td>\n",
       "      <td>0</td>\n",
       "      <td>5</td>\n",
       "      <td>0</td>\n",
       "      <td>1</td>\n",
       "      <td>1</td>\n",
       "      <td>3</td>\n",
       "      <td>1</td>\n",
       "      <td>0</td>\n",
       "      <td>1</td>\n",
       "    </tr>\n",
       "    <tr>\n",
       "      <th>1</th>\n",
       "      <td>0</td>\n",
       "      <td>0</td>\n",
       "      <td>0</td>\n",
       "      <td>1</td>\n",
       "      <td>0</td>\n",
       "      <td>0</td>\n",
       "      <td>0</td>\n",
       "      <td>0</td>\n",
       "      <td>0</td>\n",
       "      <td>1</td>\n",
       "      <td>3</td>\n",
       "      <td>0</td>\n",
       "      <td>0</td>\n",
       "      <td>0</td>\n",
       "    </tr>\n",
       "    <tr>\n",
       "      <th>2</th>\n",
       "      <td>0</td>\n",
       "      <td>1</td>\n",
       "      <td>0</td>\n",
       "      <td>0</td>\n",
       "      <td>0</td>\n",
       "      <td>1</td>\n",
       "      <td>3</td>\n",
       "      <td>0</td>\n",
       "      <td>1</td>\n",
       "      <td>1</td>\n",
       "      <td>1</td>\n",
       "      <td>1</td>\n",
       "      <td>0</td>\n",
       "      <td>0</td>\n",
       "    </tr>\n",
       "    <tr>\n",
       "      <th>3</th>\n",
       "      <td>0</td>\n",
       "      <td>0</td>\n",
       "      <td>0</td>\n",
       "      <td>0</td>\n",
       "      <td>0</td>\n",
       "      <td>0</td>\n",
       "      <td>1</td>\n",
       "      <td>0</td>\n",
       "      <td>0</td>\n",
       "      <td>0</td>\n",
       "      <td>2</td>\n",
       "      <td>0</td>\n",
       "      <td>0</td>\n",
       "      <td>1</td>\n",
       "    </tr>\n",
       "    <tr>\n",
       "      <th>4</th>\n",
       "      <td>0</td>\n",
       "      <td>0</td>\n",
       "      <td>0</td>\n",
       "      <td>0</td>\n",
       "      <td>1</td>\n",
       "      <td>0</td>\n",
       "      <td>8</td>\n",
       "      <td>0</td>\n",
       "      <td>0</td>\n",
       "      <td>1</td>\n",
       "      <td>3</td>\n",
       "      <td>0</td>\n",
       "      <td>0</td>\n",
       "      <td>0</td>\n",
       "    </tr>\n",
       "  </tbody>\n",
       "</table>\n",
       "</div>"
      ],
      "text/plain": [
       "   HeartDisease  Smoking  AlcoholDrinking  Stroke  DiffWalking  Sex  \\\n",
       "0             0        1                0       0            0    0   \n",
       "1             0        0                0       1            0    0   \n",
       "2             0        1                0       0            0    1   \n",
       "3             0        0                0       0            0    0   \n",
       "4             0        0                0       0            1    0   \n",
       "\n",
       "   AgeCategory  Race  Diabetic  PhysicalActivity  GenHealth  Asthma  \\\n",
       "0            5     0         1                 1          3       1   \n",
       "1            0     0         0                 1          3       0   \n",
       "2            3     0         1                 1          1       1   \n",
       "3            1     0         0                 0          2       0   \n",
       "4            8     0         0                 1          3       0   \n",
       "\n",
       "   KidneyDisease  SkinCancer  \n",
       "0              0           1  \n",
       "1              0           0  \n",
       "2              0           0  \n",
       "3              0           1  \n",
       "4              0           0  "
      ]
     },
     "execution_count": 13,
     "metadata": {},
     "output_type": "execute_result"
    }
   ],
   "source": [
    "heartCat.head()"
   ]
  },
  {
   "cell_type": "code",
   "execution_count": 14,
   "id": "fed345c8",
   "metadata": {},
   "outputs": [
    {
     "data": {
      "text/html": [
       "<div>\n",
       "<style scoped>\n",
       "    .dataframe tbody tr th:only-of-type {\n",
       "        vertical-align: middle;\n",
       "    }\n",
       "\n",
       "    .dataframe tbody tr th {\n",
       "        vertical-align: top;\n",
       "    }\n",
       "\n",
       "    .dataframe thead th {\n",
       "        text-align: right;\n",
       "    }\n",
       "</style>\n",
       "<table border=\"1\" class=\"dataframe\">\n",
       "  <thead>\n",
       "    <tr style=\"text-align: right;\">\n",
       "      <th></th>\n",
       "      <th>BMI</th>\n",
       "      <th>PhysicalHealth</th>\n",
       "      <th>MentalHealth</th>\n",
       "      <th>SleepTime</th>\n",
       "      <th>HeartDisease</th>\n",
       "    </tr>\n",
       "  </thead>\n",
       "  <tbody>\n",
       "    <tr>\n",
       "      <th>0</th>\n",
       "      <td>16.60</td>\n",
       "      <td>3.0</td>\n",
       "      <td>30.0</td>\n",
       "      <td>5.0</td>\n",
       "      <td>0</td>\n",
       "    </tr>\n",
       "    <tr>\n",
       "      <th>1</th>\n",
       "      <td>20.34</td>\n",
       "      <td>0.0</td>\n",
       "      <td>0.0</td>\n",
       "      <td>7.0</td>\n",
       "      <td>0</td>\n",
       "    </tr>\n",
       "    <tr>\n",
       "      <th>2</th>\n",
       "      <td>26.58</td>\n",
       "      <td>20.0</td>\n",
       "      <td>30.0</td>\n",
       "      <td>8.0</td>\n",
       "      <td>0</td>\n",
       "    </tr>\n",
       "    <tr>\n",
       "      <th>3</th>\n",
       "      <td>24.21</td>\n",
       "      <td>0.0</td>\n",
       "      <td>0.0</td>\n",
       "      <td>6.0</td>\n",
       "      <td>0</td>\n",
       "    </tr>\n",
       "    <tr>\n",
       "      <th>4</th>\n",
       "      <td>23.71</td>\n",
       "      <td>28.0</td>\n",
       "      <td>0.0</td>\n",
       "      <td>8.0</td>\n",
       "      <td>0</td>\n",
       "    </tr>\n",
       "  </tbody>\n",
       "</table>\n",
       "</div>"
      ],
      "text/plain": [
       "     BMI  PhysicalHealth  MentalHealth  SleepTime  HeartDisease\n",
       "0  16.60             3.0          30.0        5.0             0\n",
       "1  20.34             0.0           0.0        7.0             0\n",
       "2  26.58            20.0          30.0        8.0             0\n",
       "3  24.21             0.0           0.0        6.0             0\n",
       "4  23.71            28.0           0.0        8.0             0"
      ]
     },
     "execution_count": 14,
     "metadata": {},
     "output_type": "execute_result"
    }
   ],
   "source": [
    "heartNum.head()"
   ]
  },
  {
   "cell_type": "code",
   "execution_count": 15,
   "id": "04b56eba",
   "metadata": {
    "scrolled": true
   },
   "outputs": [
    {
     "data": {
      "image/png": "[encoded data removed]",
      "text/plain": [
       "<Figure size 1800x600 with 1 Axes>"
      ]
     },
     "metadata": {},
     "output_type": "display_data"
    },
    {
     "data": {
      "image/png": "[encoded data removed]",
      "text/plain": [
       "<Figure size 1800x600 with 1 Axes>"
      ]
     },
     "metadata": {},
     "output_type": "display_data"
    },
    {
     "data": {
      "image/png": "[encoded data removed]",
      "text/plain": [
       "<Figure size 1800x600 with 1 Axes>"
      ]
     },
     "metadata": {},
     "output_type": "display_data"
    },
    {
     "data": {
      "image/png": "[encoded data removed]",
      "text/plain": [
       "<Figure size 1800x600 with 1 Axes>"
      ]
     },
     "metadata": {},
     "output_type": "display_data"
    },
    {
     "data": {
      "image/png": "[encoded data removed]",
      "text/plain": [
       "<Figure size 1800x600 with 1 Axes>"
      ]
     },
     "metadata": {},
     "output_type": "display_data"
    }
   ],
   "source": [
    "for x in heartNum:\n",
    "    # Joint Boxplot of Total Train against Legendary Train\n",
    "    f = plt.figure(figsize=(18, 6))\n",
    "    sb.boxplot(x = x, y = \"HeartDisease\", data = heartNum, orient = \"h\")"
   ]
  },
  {
   "cell_type": "code",
   "execution_count": 16,
   "id": "08100e89",
   "metadata": {},
   "outputs": [],
   "source": [
    "def cramers_v(confusion_matrix):\n",
    "    \"\"\"Calculate Cramer's V statistic for categorical-categorical association.\"\"\"\n",
    "    chi2 = chi2_contingency(confusion_matrix)[0]\n",
    "    n = confusion_matrix.sum().sum()\n",
    "    r, k = confusion_matrix.shape\n",
    "    phi2 = chi2 / n\n",
    "    phi2corr = max(0, phi2 - ((k-1)*(r-1)) / (n-1))\n",
    "    rcorr = r - ((r-1) ** 2) / (n-1)\n",
    "    kcorr = k - ((k-1) ** 2) / (n-1)\n",
    "    return np.sqrt(phi2corr / min((kcorr-1), (rcorr-1)))"
   ]
  },
  {
   "cell_type": "code",
   "execution_count": 17,
   "id": "94bc41fc",
   "metadata": {},
   "outputs": [
    {
     "name": "stdout",
     "output_type": "stream",
     "text": [
      "Cramer's V score of HeartDisease: 0.9999800239051646\n",
      "Cramer's V score of Smoking: 0.10773846087482163\n",
      "Cramer's V score of AlcoholDrinking: 0.03200879887809506\n",
      "Cramer's V score of Stroke: 0.19679833564267563\n",
      "Cramer's V score of DiffWalking: 0.2012344328887237\n",
      "Cramer's V score of Sex: 0.07000706476622086\n",
      "Cramer's V score of AgeCategory: 0.2455882284871055\n",
      "Cramer's V score of Race: 0.05123034767511208\n",
      "Cramer's V score of Diabetic: 0.18510064230619377\n",
      "Cramer's V score of PhysicalActivity: 0.10000106559379833\n",
      "Cramer's V score of GenHealth: 0.2595190954095387\n",
      "Cramer's V score of Asthma: 0.04139005558272802\n",
      "Cramer's V score of KidneyDisease: 0.14515688379429212\n",
      "Cramer's V score of SkinCancer: 0.09328104401839457\n"
     ]
    }
   ],
   "source": [
    "for x in heartCat:\n",
    "    confusion_matrix = pd.crosstab(heartCat['HeartDisease'], heartCat[x])\n",
    "    # Compute Cramer's V\n",
    "    cramers_v_score = cramers_v(confusion_matrix)\n",
    "    print(\"Cramer's V score of {0}: {1}\".format(x,cramers_v_score))"
   ]
  },
  {
   "cell_type": "code",
   "execution_count": 18,
   "id": "a3ed0cbe",
   "metadata": {},
   "outputs": [],
   "source": [
    "selheartdata = pd.concat([heartCat[[\"HeartDisease\",\"GenHealth\",\"Stroke\",\"DiffWalking\",\"AgeCategory\"]],heartNum[\"PhysicalHealth\"]],axis=1)"
   ]
  },
  {
   "cell_type": "code",
   "execution_count": 19,
   "id": "b6dba307",
   "metadata": {},
   "outputs": [
    {
     "data": {
      "text/html": [
       "<div>\n",
       "<style scoped>\n",
       "    .dataframe tbody tr th:only-of-type {\n",
       "        vertical-align: middle;\n",
       "    }\n",
       "\n",
       "    .dataframe tbody tr th {\n",
       "        vertical-align: top;\n",
       "    }\n",
       "\n",
       "    .dataframe thead th {\n",
       "        text-align: right;\n",
       "    }\n",
       "</style>\n",
       "<table border=\"1\" class=\"dataframe\">\n",
       "  <thead>\n",
       "    <tr style=\"text-align: right;\">\n",
       "      <th></th>\n",
       "      <th>HeartDisease</th>\n",
       "      <th>GenHealth</th>\n",
       "      <th>Stroke</th>\n",
       "      <th>DiffWalking</th>\n",
       "      <th>AgeCategory</th>\n",
       "      <th>PhysicalHealth</th>\n",
       "    </tr>\n",
       "  </thead>\n",
       "  <tbody>\n",
       "    <tr>\n",
       "      <th>0</th>\n",
       "      <td>0</td>\n",
       "      <td>3</td>\n",
       "      <td>0</td>\n",
       "      <td>0</td>\n",
       "      <td>5</td>\n",
       "      <td>3.0</td>\n",
       "    </tr>\n",
       "    <tr>\n",
       "      <th>1</th>\n",
       "      <td>0</td>\n",
       "      <td>3</td>\n",
       "      <td>1</td>\n",
       "      <td>0</td>\n",
       "      <td>0</td>\n",
       "      <td>0.0</td>\n",
       "    </tr>\n",
       "    <tr>\n",
       "      <th>2</th>\n",
       "      <td>0</td>\n",
       "      <td>1</td>\n",
       "      <td>0</td>\n",
       "      <td>0</td>\n",
       "      <td>3</td>\n",
       "      <td>20.0</td>\n",
       "    </tr>\n",
       "    <tr>\n",
       "      <th>3</th>\n",
       "      <td>0</td>\n",
       "      <td>2</td>\n",
       "      <td>0</td>\n",
       "      <td>0</td>\n",
       "      <td>1</td>\n",
       "      <td>0.0</td>\n",
       "    </tr>\n",
       "    <tr>\n",
       "      <th>4</th>\n",
       "      <td>0</td>\n",
       "      <td>3</td>\n",
       "      <td>0</td>\n",
       "      <td>1</td>\n",
       "      <td>8</td>\n",
       "      <td>28.0</td>\n",
       "    </tr>\n",
       "  </tbody>\n",
       "</table>\n",
       "</div>"
      ],
      "text/plain": [
       "   HeartDisease  GenHealth  Stroke  DiffWalking  AgeCategory  PhysicalHealth\n",
       "0             0          3       0            0            5             3.0\n",
       "1             0          3       1            0            0             0.0\n",
       "2             0          1       0            0            3            20.0\n",
       "3             0          2       0            0            1             0.0\n",
       "4             0          3       0            1            8            28.0"
      ]
     },
     "execution_count": 19,
     "metadata": {},
     "output_type": "execute_result"
    }
   ],
   "source": [
    "selheartdata.head()"
   ]
  },
  {
   "cell_type": "code",
   "execution_count": 20,
   "id": "4e5dc938",
   "metadata": {
    "scrolled": false
   },
   "outputs": [],
   "source": [
    "def removeOutlier(cleanData,columnName):\n",
    "    Q1 = cleanData[columnName].quantile(0.25)\n",
    "    Q3 = cleanData[columnName].quantile(0.75)\n",
    "    IQR = Q3 - Q1\n",
    "    lower = Q1 - 1.5*IQR\n",
    "    upper = Q3 + 1.5*IQR\n",
    "\n",
    "    # Create arrays of Boolean values indicating the outlier rows\n",
    "    saleupperout = cleanData[columnName] >= upper\n",
    "    salelowerout = cleanData[columnName] <= lower\n",
    "\n",
    "    # Removing the outliers\n",
    "    cleanData = cleanData[~saleupperout]\n",
    "    cleanData = cleanData[~salelowerout]\n",
    "    return cleanData"
   ]
  },
  {
   "cell_type": "code",
   "execution_count": 21,
   "id": "e74684ea",
   "metadata": {},
   "outputs": [
    {
     "data": {
      "text/plain": [
       "(319795, 6)"
      ]
     },
     "execution_count": 21,
     "metadata": {},
     "output_type": "execute_result"
    }
   ],
   "source": [
    "selheartdata.shape"
   ]
  },
  {
   "cell_type": "code",
   "execution_count": 22,
   "id": "cbd61c18",
   "metadata": {},
   "outputs": [
    {
     "name": "stderr",
     "output_type": "stream",
     "text": [
      "C:\\Users\\guan_\\AppData\\Local\\Temp\\ipykernel_5136\\4228276862.py:14: UserWarning: Boolean Series key will be reindexed to match DataFrame index.\n",
      "  cleanData = cleanData[~salelowerout]\n"
     ]
    }
   ],
   "source": [
    "cleaned_selected_heartdata = removeOutlier(selheartdata,\"PhysicalHealth\")"
   ]
  },
  {
   "cell_type": "code",
   "execution_count": 23,
   "id": "09ac7c77",
   "metadata": {},
   "outputs": [
    {
     "data": {
      "text/plain": [
       "(265043, 6)"
      ]
     },
     "execution_count": 23,
     "metadata": {},
     "output_type": "execute_result"
    }
   ],
   "source": [
    "cleaned_selected_heartdata.shape"
   ]
  },
  {
   "cell_type": "code",
   "execution_count": 24,
   "id": "062dc123",
   "metadata": {},
   "outputs": [
    {
     "data": {
      "text/plain": [
       "<Axes: xlabel='PhysicalHealth', ylabel='HeartDisease'>"
      ]
     },
     "execution_count": 24,
     "metadata": {},
     "output_type": "execute_result"
    },
    {
     "data": {
      "image/png": "[encoded data removed]",
      "text/plain": [
       "<Figure size 1800x600 with 1 Axes>"
      ]
     },
     "metadata": {},
     "output_type": "display_data"
    }
   ],
   "source": [
    "f = plt.figure(figsize=(18, 6))\n",
    "sb.boxplot(x = \"PhysicalHealth\", y = \"HeartDisease\", data = heartNum, orient = \"h\")"
   ]
  },
  {
   "cell_type": "code",
   "execution_count": 25,
   "id": "fe2d3d91",
   "metadata": {},
   "outputs": [],
   "source": [
    "cleaned_selected_heartdata.to_csv('selected_heartdata.csv', index=False)"
   ]
  },
  {
   "cell_type": "markdown",
   "id": "19a871c5",
   "metadata": {},
   "source": [
    "## Balance data code"
   ]
  },
  {
   "cell_type": "code",
   "execution_count": 42,
   "id": "e64c9900",
   "metadata": {},
   "outputs": [],
   "source": [
    "\n",
    "# Split the dataframe into two based on the values of 'HeartDisease'\n",
    "one = cleaned_selected_heartdata.loc[cleaned_selected_heartdata['HeartDisease'] == 1]\n",
    "zero = cleaned_selected_heartdata.loc[cleaned_selected_heartdata['HeartDisease'] == 0]\n",
    "\n",
    "# Randomly sample the zero instances to match the number of ones\n",
    "random_zero = zero.sample(n=len(one), replace=False)\n",
    "\n",
    "# Concatenate the two dataframes\n",
    "balanced_heartdata = pd.concat([one, random_zero])\n",
    "\n"
   ]
  },
  {
   "cell_type": "code",
   "execution_count": 43,
   "id": "6ee08219",
   "metadata": {},
   "outputs": [
    {
     "data": {
      "text/plain": [
       "<bound method NDFrame.head of         HeartDisease  GenHealth  Stroke  DiffWalking  AgeCategory  \\\n",
       "42                 1          2       0            1            0   \n",
       "45                 1          0       0            0            2   \n",
       "77                 1          2       0            0            5   \n",
       "127                1          1       0            1            2   \n",
       "129                1          3       0            0            4   \n",
       "...              ...        ...     ...          ...          ...   \n",
       "197472             0          1       0            0           12   \n",
       "165808             0          2       0            0           12   \n",
       "198061             0          2       0            0            3   \n",
       "115377             0          4       0            0            5   \n",
       "123269             0          3       0            0           12   \n",
       "\n",
       "        PhysicalHealth  \n",
       "42                 0.0  \n",
       "45                 3.0  \n",
       "77                 0.0  \n",
       "127                2.0  \n",
       "129                2.0  \n",
       "...                ...  \n",
       "197472             2.0  \n",
       "165808             2.0  \n",
       "198061             0.0  \n",
       "115377             2.0  \n",
       "123269             1.0  \n",
       "\n",
       "[35066 rows x 6 columns]>"
      ]
     },
     "execution_count": 43,
     "metadata": {},
     "output_type": "execute_result"
    }
   ],
   "source": [
    "balanced_heartdata.head"
   ]
  },
  {
   "cell_type": "code",
   "execution_count": null,
   "id": "c95691b3",
   "metadata": {},
   "outputs": [],
   "source": [
    "for x in heartCat:\n",
    "   heartCat[x] = heartCat[x].replace({'No': 0, 'Yes': 1, 'No, borderline diabetes': 2, \"Yes (during pregnancy)\":3, \"Female\":0, \"Male\":1})\n",
    "heartCat[\"GenHealth\"] = heartCat[\"GenHealth\"].replace({\"Poor\": 0, \"Fair\":1, \"Good\": 2 ,\"Very good\": 3, \"Excellent\":4})\n",
    "heartCat[\"Race\"] = heartCat[\"Race\"].replace({'White': 0, 'Black':1,'Asian':3,'American Indian/Alaskan Native': 4, 'Hispanic':5, 'Other':6})\n",
    "heartCat[\"AgeCategory\"] = heartCat[\"AgeCategory\"].replace({'80 or older': 0, '75-79': 1, '70-74': 2,  '65-69':3, '60-64':4, '55-59': 5,'50-54': 6, '45-49': 7, '40-44': 8, '35-39': 9,'30-34': 10, '25-29': 11, '18-24': 12})"
   ]
  },
  {
   "cell_type": "code",
   "execution_count": 44,
   "id": "19c2775b",
   "metadata": {},
   "outputs": [
    {
     "name": "stderr",
     "output_type": "stream",
     "text": [
      "/Users/dee/anaconda3/lib/python3.11/site-packages/seaborn/axisgrid.py:118: UserWarning: The figure layout has changed to tight\n",
      "  self._figure.tight_layout(*args, **kwargs)\n"
     ]
    },
    {
     "data": {
      "text/plain": [
       "<seaborn.axisgrid.FacetGrid at 0x127741e50>"
      ]
     },
     "execution_count": 44,
     "metadata": {},
     "output_type": "execute_result"
    },
    {
     "data": {
      "image/png": "[encoded data removed]",
      "text/plain": [
       "<Figure size 500x500 with 1 Axes>"
      ]
     },
     "metadata": {},
     "output_type": "display_data"
    }
   ],
   "source": [
    " sb.catplot(y = \"HeartDisease\", data = balanced_heartdata, kind = \"count\")"
   ]
  },
  {
   "cell_type": "code",
   "execution_count": 45,
   "id": "c4bea571",
   "metadata": {},
   "outputs": [],
   "source": [
    "balanced_heartdata.to_csv('balanced_heartdata.csv', index=False)"
   ]
  },
  {
   "cell_type": "code",
   "execution_count": 46,
   "id": "ce47109c",
   "metadata": {},
   "outputs": [],
   "source": [
    "etadata = heartdata[[\"HeartDisease\",\"GenHealth\",\"Stroke\",\"DiffWalking\",\"AgeCategory\",\"PhysicalHealth\"]]"
   ]
  },
  {
   "cell_type": "code",
   "execution_count": 47,
   "id": "7cd4090b",
   "metadata": {},
   "outputs": [
    {
     "data": {
      "text/plain": [
       "<bound method NDFrame.head of         HeartDisease  GenHealth Stroke DiffWalking  AgeCategory  \\\n",
       "0                  0  Very good     No          No        55-59   \n",
       "1                  0  Very good    Yes          No  80 or older   \n",
       "2                  0       Fair     No          No        65-69   \n",
       "3                  0       Good     No          No        75-79   \n",
       "4                  0  Very good     No         Yes        40-44   \n",
       "...              ...        ...    ...         ...          ...   \n",
       "319790             1       Fair     No         Yes        60-64   \n",
       "319791             0  Very good     No          No        35-39   \n",
       "319792             0       Good     No          No        45-49   \n",
       "319793             0       Good     No          No        25-29   \n",
       "319794             0       Good     No          No  80 or older   \n",
       "\n",
       "        PhysicalHealth  \n",
       "0                  3.0  \n",
       "1                  0.0  \n",
       "2                 20.0  \n",
       "3                  0.0  \n",
       "4                 28.0  \n",
       "...                ...  \n",
       "319790             7.0  \n",
       "319791             0.0  \n",
       "319792             0.0  \n",
       "319793             0.0  \n",
       "319794             0.0  \n",
       "\n",
       "[319795 rows x 6 columns]>"
      ]
     },
     "execution_count": 47,
     "metadata": {},
     "output_type": "execute_result"
    }
   ],
   "source": [
    "etadata.head"
   ]
  },
  {
   "cell_type": "code",
   "execution_count": null,
   "id": "95514514",
   "metadata": {},
   "outputs": [],
   "source": []
  }
 ],
 "metadata": {
  "kernelspec": {
   "display_name": "Python 3 (ipykernel)",
   "language": "python",
   "name": "python3"
  },
  "language_info": {
   "codemirror_mode": {
    "name": "ipython",
    "version": 3
   },
   "file_extension": ".py",
   "mimetype": "text/x-python",
   "name": "python",
   "nbconvert_exporter": "python",
   "pygments_lexer": "ipython3",
   "version": "3.11.5"
  }
 },
 "nbformat": 4,
 "nbformat_minor": 5
}
